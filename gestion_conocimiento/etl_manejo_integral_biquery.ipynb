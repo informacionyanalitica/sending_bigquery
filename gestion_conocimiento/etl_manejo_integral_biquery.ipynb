{
 "cells": [
  {
   "cell_type": "code",
   "execution_count": 222,
   "metadata": {},
   "outputs": [],
   "source": [
    "import pandas as pd\n",
    "import sys\n",
    "import os\n",
    "from datetime import datetime\n",
    "\n",
    "PATH_TOOLS = os.environ.get(\"PATH_TOOLS\")\n",
    "path = os.path.abspath(PATH_TOOLS)\n",
    "sys.path.insert(1,path)\n",
    "import func_process\n",
    "import load_bigquery as loadbq\n"
   ]
  },
  {
   "cell_type": "code",
   "execution_count": 240,
   "metadata": {},
   "outputs": [],
   "source": [
    "FECHA_CARGUE = datetime.now().date()"
   ]
  },
  {
   "cell_type": "code",
   "execution_count": 241,
   "metadata": {},
   "outputs": [],
   "source": [
    "COLUMNS_REQUIRED = ['fecha','fecha_realizo_auditoria','mes','ano','examen_monitorear','tipo_examen','sede','rol_profesional','nombre_profesional',\n",
    " 'cedula','historia_clinica','condicion_salud','dx','percentil_riesgo','antecedentes_personales_gestion_de_caso','interrogatorio_medico_completo',\n",
    " 'adherencia_tratamiento_medicamentoso_actual','examen_fisico_completo_adecuado','ayudas_dx_acorde_condicion_salud',\n",
    " 'recomendaciones_entregadas_acorde_guias_protocolos','maneja_paciente_manera_integral','condicion_salud_manejo_segun_guia',\n",
    " 'paciente_reconsultar_urgencias_hospitalizacion','remision_o_CCE_alguna_especializacion','gestion_paraclinicos_solicitados',\n",
    " 'referencia_contrareferencia_adecuada','analisis_plan','pertinencia','nota','observaciones','datos_completos']\n",
    "\n",
    "SQL_BIGQUERY = \"\"\"\n",
    "            SELECT ltrim(rtrim(concat(cc.fecha,'-',cc.cedula,'-',cc.historia_clinica))) as compound_key\n",
    "            FROM {} as cc\n",
    "            WHERE ltrim(rtrim(concat(cc.fecha,'-',cc.cedula,'-',cc.historia_clinica))) in {}\n",
    "                \"\"\"\n",
    "\n",
    "project_id_product = 'ia-bigquery-397516'\n",
    "dataset_id_gestion_conocimiento = 'gestion_conocimiento'\n",
    "table_name_auditores = 'auditores'\n",
    "VALIDATOR_COLUMN = 'compound_key' \n",
    "\n",
    "TABLA_BIGQUERY = f'{project_id_product}.{dataset_id_gestion_conocimiento}.{table_name_auditores}'\n",
    "\n",
    "ID_SHEET = '10o322VBkc8Lf_v8z7U6wxqsCUihhUPeOaHm_9wDlmW8'\n",
    "LIST_NAME_SHEET = ['Dr Edwin','Dr Juan David','Jefe Camila','Dr Efrain']"
   ]
  },
  {
   "cell_type": "code",
   "execution_count": 242,
   "metadata": {},
   "outputs": [],
   "source": [
    "# Date\n",
    "def convert_date(df):\n",
    "    # Convert columns date\n",
    "    df.fecha = pd.to_datetime(df.fecha, errors='coerce')\n",
    "    df.fecha_realizo_auditoria = pd.to_datetime(df.fecha_realizo_auditoria, errors='coerce')\n",
    "    return df\n",
    "\n",
    "# Number\n",
    "def convert_number(df):\n",
    "    try:\n",
    "        # Convert year\n",
    "        df.ano.fillna(0, inplace=True)\n",
    "        df.ano = df.ano.astype(int)\n",
    "        # Clean empty data and signs\n",
    "        df.nota.fillna('0', inplace=True)  \n",
    "        df.nota = [val.replace('%','') for val in df.nota]\n",
    "        df.nota = [val.replace('','0') for val in df.nota]\n",
    "        df.nota = df.nota.astype(int)\n",
    "        return df\n",
    "    except Exception as err:\n",
    "        print(err)\n",
    "\n",
    "def get_columns_required(df):\n",
    "    try:\n",
    "        df[pd.to_datetime(df['Fecha (dd/mm/año)']) == FECHA_CARGUE]\n",
    "        df.drop(['Envío de Correo'], axis=1, inplace=True)\n",
    "        df.columns = COLUMNS_REQUIRED\n",
    "        return df\n",
    "    except Exception as err:\n",
    "        print(err)\n",
    "\n",
    "def drop_rows_empty(df):\n",
    "    try:\n",
    "        list_index_drop = df[(df.fecha == '') & (df.examen_monitorear == '')].index[0]\n",
    "        df = df.iloc[:list_index_drop]\n",
    "        return df\n",
    "    except Exception as err:\n",
    "        print(err)\n",
    "    \n"
   ]
  },
  {
   "cell_type": "code",
   "execution_count": 233,
   "metadata": {},
   "outputs": [],
   "source": [
    "# df_auditor_uno = func_process.get_google_sheet(id_sheet, name_sheet_uno)\n",
    "# df_auditor_dos = func_process.get_google_sheet(id_sheet, name_sheet_dos)\n",
    "#df_auditor_tres = func_process.get_google_sheet(ID_SHEET, 'Jefe Camila')\n",
    "# df_auditor_cuatro = func_process.get_google_sheet(id_sheet, name_sheet_cuatro)"
   ]
  },
  {
   "cell_type": "code",
   "execution_count": 219,
   "metadata": {},
   "outputs": [],
   "source": [
    "# Obtener datos no duplicados\n",
    "def validate_rows_duplicate(df,TABLA_BIGQUERY):\n",
    "    try:\n",
    "        df[VALIDATOR_COLUMN] = df.fecha.astype(str) +'-'+ df.cedula.astype(str)+'-'+ df.historia_clinica.astype(str)\n",
    "        valores_unicos = tuple(set(df[VALIDATOR_COLUMN]))\n",
    "        df_rows_not_duplicates = loadbq.rows_not_duplicates(df,VALIDATOR_COLUMN,SQL_BIGQUERY,TABLA_BIGQUERY,valores_unicos)\n",
    "        df_rows_not_duplicates.drop(VALIDATOR_COLUMN, axis=1, inplace=True)\n",
    "        return df_rows_not_duplicates\n",
    "    except ValueError as err:\n",
    "        print(err)\n",
    "\n",
    "def validate_load(df_load_log,df_not_duplicate):\n",
    "    total_cargues = df_load_log.totalCargues[0]\n",
    "    if total_cargues==0:\n",
    "        try:\n",
    "            # Load bigquery\n",
    "            loadbq.load_data_bigquery(df_not_duplicate,TABLA_BIGQUERY,'WRITE_TRUNCATE')\n",
    "        except Exception as err:\n",
    "            print(err)\n",
    "\n",
    "def execution_load():\n",
    "    try:\n",
    "        df_auditores = pd.DataFrame()\n",
    "        for name in LIST_NAME_SHEET:\n",
    "            df_auditor = func_process.get_google_sheet(ID_SHEET, name)\n",
    "            df_auditor = get_columns_required(df_auditor)\n",
    "            df_auditor_clean = drop_rows_empty(df_auditor)\n",
    "            df_auditor_transform = convert_date(df_auditor_clean)\n",
    "            df_auditor_transform = convert_number(df_auditor_clean)\n",
    "            df_auditores = pd.concat([df_auditores,df_auditor_transform])\n",
    "        # VALIDATE DATA\n",
    "        df_rows_not_duplicates = validate_rows_duplicate(df_auditores,TABLA_BIGQUERY)\n",
    "        validate_loads_logs =  loadbq.validate_loads_daily(TABLA_BIGQUERY)\n",
    "        validate_load(validate_loads_logs,df_rows_not_duplicates)\n",
    "    except Exception as err:\n",
    "        print(err)\n",
    "\n",
    "\n"
   ]
  },
  {
   "cell_type": "code",
   "execution_count": 221,
   "metadata": {},
   "outputs": [
    {
     "name": "stdout",
     "output_type": "stream",
     "text": [
      "Dr Edwin\n",
      "(15641, 32)\n",
      "Dr Juan David\n",
      "(7907, 32)\n",
      "Jefe Camila\n",
      "(6812, 32)\n",
      "Dr Efrain\n",
      "(18294, 32)\n",
      "(21552, 31)\n",
      "DF cargado con exito\n",
      "load_df_server took 0.31748247146606445s\n",
      "Se insertaron 21552 filas en ia-bigquery-397516.gestion_conocimiento.auditores.\n",
      "Save successfully\n",
      "21552 , ia-bigquery-397516.gestion_conocimiento.auditores , 2024-07-15 15:14:11.274444\n"
     ]
    }
   ],
   "source": [
    "execution_load()"
   ]
  },
  {
   "cell_type": "code",
   "execution_count": 139,
   "metadata": {},
   "outputs": [],
   "source": []
  },
  {
   "cell_type": "code",
   "execution_count": null,
   "metadata": {},
   "outputs": [],
   "source": []
  }
 ],
 "metadata": {
  "kernelspec": {
   "display_name": "venv",
   "language": "python",
   "name": "python3"
  },
  "language_info": {
   "codemirror_mode": {
    "name": "ipython",
    "version": 3
   },
   "file_extension": ".py",
   "mimetype": "text/x-python",
   "name": "python",
   "nbconvert_exporter": "python",
   "pygments_lexer": "ipython3",
   "version": "3.10.0"
  }
 },
 "nbformat": 4,
 "nbformat_minor": 2
}
